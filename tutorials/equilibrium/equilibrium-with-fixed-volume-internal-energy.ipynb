{
 "cells": [
  {
   "cell_type": "markdown",
   "metadata": {},
   "source": [
    "# Chemical equilibrium with fixed volume and internal energy\n",
    "\n",
    "Let's consider the combustion of CH<sub>4</sub> in a rigid and adiabatic chamber of 10 cm<sup>3</sup>. Therefore, we will solve a chemical equilibrium problem in which we specify **volume** and **internal energy** as given properties at the equilibrium state."
   ]
  },
  {
   "cell_type": "code",
   "execution_count": null,
   "metadata": {},
   "outputs": [],
   "source": [
    "from reaktoro import *\n",
    "\n",
    "#db = NasaDatabase(\"nasa-cea\")\n",
    "db = PhreeqcDatabase(\"llnl.dat\")\n",
    "\n",
    "gases = GaseousPhase(\"CH4(g) O2(g) CO2(g) CO(g) H2O(g) H2(g)\")\n",
    "\n",
    "system = ChemicalSystem(db, gases)"
   ]
  },
  {
   "cell_type": "markdown",
   "metadata": {},
   "source": [
    "Next, we create an initial chemical state for this system in which CH<sub>4</sub> and O<sub>2</sub> exist in a 10 cm<sup>3</sup> volume with mole fractions 0.75 and 0.25 of 1 mol, respectively. This is followed by **scaling the volume of the chemical state** to the desired 10 cm<sup>3</sup>."
   ]
  },
  {
   "cell_type": "code",
   "execution_count": null,
   "metadata": {},
   "outputs": [],
   "source": [
    "state = ChemicalState(system)\n",
    "state.temperature(25.0, \"celsius\")\n",
    "state.pressure(1.0, \"bar\")\n",
    "state.set(\"CH4(g)\", 0.75, \"mol\")  # 75% of 1 mol\n",
    "state.set(\"O2(g)\",  0.25, \"mol\")  # 25% of 1 mol\n",
    "state.scaleVolume(10.0, \"cm3\")\n",
    "\n",
    "print(\"INITIAL STATE\")\n",
    "print(state)"
   ]
  },
  {
   "cell_type": "markdown",
   "metadata": {},
   "source": [
    "Let's check the volume and internal energy in this initial chemical state using [ChemicalProps](https://reaktoro.org/api/classReaktoro_1_1ChemicalProps.html) class."
   ]
  },
  {
   "cell_type": "code",
   "execution_count": null,
   "metadata": {},
   "outputs": [],
   "source": [
    "props = ChemicalProps(state)\n",
    "\n",
    "V0 = props.volume()          # the initial volume of the gases\n",
    "U0 = props.internalEnergy()  # the initial internal energy of the gases\n",
    "\n",
    "print(\"Initial volume of the gases is\", V0, \"m3\")\n",
    "print(\"Initial internal energy of the gases is\", U0, \"J\")"
   ]
  },
  {
   "cell_type": "markdown",
   "metadata": {},
   "source": [
    "Considered chemical equilibrium problem needs to impose constraints on the following properties:\n",
    "\n",
    "* volume and\n",
    "* internal energy.\n",
    "\n",
    "Below, we create an [EquilibriumSpecs](https://reaktoro.org/api/classReaktoro_1_1EquilibriumSpecs.html) object to reflect these specifications for the equilibrium constraints, which is then used to create our [EquilibriumSolver](https://reaktoro.org/api/classReaktoro_1_1EquilibriumSolver.html) object and specify the values of volume and internal energy in the [EquilibriumConditions](https://reaktoro.org/api/classReaktoro_1_1EquilibriumConditions.html) object (which should be valued at the initial state, `V0` and `U0`, respectively)."
   ]
  },
  {
   "cell_type": "code",
   "execution_count": null,
   "metadata": {},
   "outputs": [],
   "source": [
    "specs = EquilibriumSpecs(system)\n",
    "specs.volume()\n",
    "specs.internalEnergy()\n",
    "\n",
    "solver = EquilibriumSolver(specs)\n",
    "\n",
    "conditions = EquilibriumConditions(specs)\n",
    "conditions.volume(V0)\n",
    "conditions.internalEnergy(U0)\n",
    "\n",
    "conditions.setLowerBoundTemperature(25.0, \"celsius\")\n",
    "conditions.setUpperBoundTemperature(100.0, \"celsius\")\n",
    "\n",
    "conditions.setLowerBoundPressure(1.0, \"bar\")\n",
    "conditions.setUpperBoundPressure(100.0, \"bar\")"
   ]
  },
  {
   "cell_type": "markdown",
   "metadata": {},
   "source": [
    "> **Tip**: It's good to set lower and upper bounds for temperature and pressure when solving chemical equilibrium problems in which these properties are unknown. This helps to avoid them being set to negative or extremely large values, causing errors in the algorithm."
   ]
  },
  {
   "cell_type": "markdown",
   "metadata": {},
   "source": [
    "Finally, we can  perform the equilibrium calculation:"
   ]
  },
  {
   "cell_type": "code",
   "execution_count": null,
   "metadata": {},
   "outputs": [],
   "source": [
    "solver.solve(state, conditions)\n",
    "\n",
    "print(\"FINAL STATE\")\n",
    "print(state)"
   ]
  },
  {
   "cell_type": "markdown",
   "metadata": {},
   "source": [
    "Note that O<sub>2</sub> was entirely consumed in the process. Its amount is not zero because Reaktoro's equilibrium solver has a default lower bound of 1e-16 moles for the species amounts.\n",
    "\n",
    "> **Tip**: To change this default lower bound for species amounts, [EquilibriumOptions](https://reaktoro.org/api/structReaktoro_1_1EquilibriumOptions.html) class can be used:\n",
    ">\n",
    "> ~~~python\n",
    "> options = EquilibriumOptions()\n",
    "> options.epsilon = 1e-30\n",
    ">\n",
    "> solver = EquilibriumSolver(specs)\n",
    "> solver.setOptions(options)\n",
    "> ~~~"
   ]
  },
  {
   "cell_type": "markdown",
   "metadata": {},
   "source": [
    "**TASK 1**: verify that equilibrium state has volume and internal energy equal to `V0` and `U0`, respectively."
   ]
  },
  {
   "cell_type": "code",
   "execution_count": null,
   "metadata": {},
   "outputs": [],
   "source": [
    "# -------------------------------------- #\n",
    "# Code cell for the task\n",
    "# -------------------------------------- #\n",
    "\n",
    "V = state.props().volume()\n",
    "U = state.props().internalEnergy()\n",
    "\n",
    "print(\"Volume at initial state:\", V0, \"m3\")\n",
    "print(\"Volume at final state:\", V, \"m3\")\n",
    "\n",
    "print(\"Internal energy at initial state:\", U0, \"J\")\n",
    "print(\"Internal energy at final state:\", U, \"J\")"
   ]
  },
  {
   "cell_type": "markdown",
   "metadata": {},
   "source": [
    "**TASK 2**: check the final temperature and pressure when burning CH<sub>4</sub> in that rigid and adiabatic chamber with our given initial conditions."
   ]
  },
  {
   "cell_type": "code",
   "execution_count": null,
   "metadata": {
    "pycharm": {
     "name": "#%%\n"
    }
   },
   "outputs": [],
   "source": [
    "# -------------------------------------- #\n",
    "# Code cell for the task\n",
    "# -------------------------------------- #\n",
    "\n",
    "T = units.convert(state.temperature(), \"K\", \"degC\")  # convert from K to °C\n",
    "P = units.convert(state.pressure(), \"Pa\", \"bar\")  # convert from Pa to bar\n",
    "\n",
    "print(\"Temperature at final state:\", T, \"°C\")\n",
    "print(\"Pressure at final state:\", P, \"bar\")"
   ]
  }
 ],
 "metadata": {
  "interpreter": {
   "hash": "e4e8b2f3ae27709963f14fd23a6560d362beea55eaec742263828e04d814e23c"
  },
  "kernelspec": {
   "display_name": "Python 3 (ipykernel)",
   "language": "python",
   "name": "python3"
  },
  "language_info": {
   "codemirror_mode": {
    "name": "ipython",
    "version": 3
   },
   "file_extension": ".py",
   "mimetype": "text/x-python",
   "name": "python",
   "nbconvert_exporter": "python",
   "pygments_lexer": "ipython3",
   "version": "3.9.7"
  }
 },
 "nbformat": 4,
 "nbformat_minor": 4
}
