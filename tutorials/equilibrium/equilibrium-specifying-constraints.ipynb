{
 "cells": [
  {
   "cell_type": "markdown",
   "metadata": {
    "tags": []
   },
   "source": [
    "# Chemical equilibrium with constraints\n",
    "\n",
    "This tutorial demonstrates how Reaktoro can be used for a wide range of equilibrium problems and explains how to\n",
    "\n",
    "* *specify different equilibrium constraints* when calculating chemical equilibrium and\n",
    "* *configure equilibrium solver* to be open to one or more substances to satisfy these constraints.\n",
    "\n",
    "Let us re-call the simplest chemical equilibrium discussed earlier, where:\n",
    "* T and P are given and\n",
    "* the system is closed (no mass transfer in or out of the system)."
   ]
  },
  {
   "cell_type": "code",
   "execution_count": null,
   "metadata": {},
   "outputs": [],
   "source": [
    "from reaktoro import *\n",
    "\n",
    "db = PhreeqcDatabase(\"llnl.dat\")\n",
    "\n",
    "gases = GaseousPhase(\"CH4(g) O2(g) CO2(g) CO(g) H2O(g) H2(g)\")\n",
    "\n",
    "system = ChemicalSystem(db, gases)\n",
    "\n",
    "solver = EquilibriumSolver(system) # notat that EquilibriumSolver is intialized with chemical system"
   ]
  },
  {
   "cell_type": "markdown",
   "metadata": {},
   "source": [
    "To impose the **temperature** and **volume** of the system (technically the class of *Helmholtz energy minimization problems*), we need to construct *a specialized [EquilibriumSolver](https://reaktoro.org/api/classReaktoro_1_1EquilibriumSolver.html) object* that handles alternative constraint specifications.\n",
    "\n",
    "> **Note**: Instead of the Helmholtz energy minimization problem, Reaktoro implements a single **parametric Gibbs energy minimization solver that accepts general equilibrium constraints**, which can be configured to efficiently solve all other classes of equilibrium problems.\n"
   ]
  },
  {
   "cell_type": "markdown",
   "metadata": {},
   "source": [
    "## Specifying open conditions\n",
    "\n",
    "Assume, we need to find out how many mols of CH<sub>4</sub> must react with 0.5 mol of O<sub>2</sub> in the same chamber (with **volume** 10 cm³ and **temperature** 1000 °C) to obtain **pressure** 1 GPa (maximum pressure supported by the chamber material). In such equilibrium calculation, the system must be assumed to be open to the mass transfer of CH<sub>4</sub>, which creates a new *degree of freedom*: the amount of added/removed substance.\n",
    "\n",
    "We start with the chemical state containing only 0.5 mols of O<sub>2</sub>:"
   ]
  },
  {
   "cell_type": "code",
   "execution_count": null,
   "metadata": {},
   "outputs": [],
   "source": [
    "state = ChemicalState(system)\n",
    "state.set(\"O2(g)\", 0.5, \"mol\")"
   ]
  },
  {
   "cell_type": "markdown",
   "metadata": {},
   "source": [
    "Next, we create an [EquilibriumSpecs](https://reaktoro.org/api/classReaktoro_1_1EquilibriumSpecs.html) object specifying **temperature**, **volume**, and **pressure** as constrained properties. We also specify that the system is open to CH<sub>4</sub>."
   ]
  },
  {
   "cell_type": "code",
   "execution_count": null,
   "metadata": {},
   "outputs": [],
   "source": [
    "specs = EquilibriumSpecs(system)\n",
    "specs.temperature()\n",
    "specs.volume()\n",
    "specs.pressure()\n",
    "specs.openTo(\"CH4\")"
   ]
  },
  {
   "cell_type": "markdown",
   "metadata": {},
   "source": [
    "Then, we create the [EquilibriumConditions](https://reaktoro.org/api/classReaktoro_1_1EquilibriumConditions.html) object, providing the values for temperature, volume, and pressure, and perform the equilibrium calculation:"
   ]
  },
  {
   "cell_type": "code",
   "execution_count": null,
   "metadata": {
    "scrolled": true,
    "tags": [
     "output_scroll"
    ]
   },
   "outputs": [],
   "source": [
    "conditions = EquilibriumConditions(specs)\n",
    "conditions.temperature(25.0, \"celsius\")\n",
    "conditions.volume(10.0, \"cm3\")\n",
    "conditions.pressure(1.0, \"GPa\")\n",
    "\n",
    "solver = EquilibriumSolver(specs)\n",
    "solver.solve(state, conditions)\n",
    "\n",
    "print(state.props())"
   ]
  },
  {
   "cell_type": "markdown",
   "metadata": {},
   "source": [
    "The above table shows that the obtained equilibrium state meats desired values for temperature, pressure, and volume (in SI units). We can output the amount of CH<sub>4</sub> entering the system so that all prescribed conditions could be attained:"
   ]
  },
  {
   "cell_type": "code",
   "execution_count": null,
   "metadata": {
    "pycharm": {
     "name": "#%%\n"
    }
   },
   "outputs": [],
   "source": [
    "print(\"Amount of CH4 titrated in:\", float(state.equilibrium().explicitTitrantAmounts()), \"mol\")"
   ]
  }
 ],
 "metadata": {
  "interpreter": {
   "hash": "e4e8b2f3ae27709963f14fd23a6560d362beea55eaec742263828e04d814e23c"
  },
  "kernelspec": {
   "display_name": "Python 3 (ipykernel)",
   "language": "python",
   "name": "python3"
  },
  "language_info": {
   "codemirror_mode": {
    "name": "ipython",
    "version": 3
   },
   "file_extension": ".py",
   "mimetype": "text/x-python",
   "name": "python",
   "nbconvert_exporter": "python",
   "pygments_lexer": "ipython3",
   "version": "3.9.7"
  }
 },
 "nbformat": 4,
 "nbformat_minor": 4
}
